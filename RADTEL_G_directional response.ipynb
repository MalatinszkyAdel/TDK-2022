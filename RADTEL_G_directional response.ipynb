{
 "cells": [
  {
   "cell_type": "code",
   "execution_count": 1,
   "id": "69eba471",
   "metadata": {},
   "outputs": [
    {
     "name": "stdout",
     "output_type": "stream",
     "text": [
      "Populating the interactive namespace from numpy and matplotlib\n"
     ]
    }
   ],
   "source": [
    "%pylab inline"
   ]
  },
  {
   "cell_type": "markdown",
   "id": "a91491a7",
   "metadata": {},
   "source": [
    "# Gemetria tényező számítása RADTEL\n",
    "Az analitikus számolások J.D. Sullivan GEOMETRICAL FACTOR AND DIRECTIONAL RESPONSE OF SINGLE AND MULTI-ELEMENT PARTICLE TELESCOPES 1971-es cikkje alapján készült."
   ]
  },
  {
   "cell_type": "code",
   "execution_count": 2,
   "id": "4d8f2b20",
   "metadata": {},
   "outputs": [],
   "source": [
    "#detekorlemezek távolsága a középvonaltól számítva\n",
    "l=[12.2,12.25,7.525,2.25,8.025,10.3]#mm"
   ]
  },
  {
   "cell_type": "code",
   "execution_count": 3,
   "id": "64530e2f",
   "metadata": {},
   "outputs": [],
   "source": [
    "# két végtelenül vékony körlap tedektor geometriai tényezője\n",
    "def G_two (l):\n",
    "    #detektorok sugara\n",
    "    r1=10\n",
    "    r2=10    \n",
    "    G=0.5* pi **2 *(r1**2+r2**2+l**2-sqrt((r1**2+r2**2+l**2)**2-4*r1**2*r2**2))\n",
    "    return G"
   ]
  },
  {
   "cell_type": "code",
   "execution_count": 4,
   "id": "5310feec",
   "metadata": {},
   "outputs": [
    {
     "name": "stdout",
     "output_type": "stream",
     "text": [
      "311.02340742794644\n",
      "309.6993626535435\n",
      "472.87940941768596\n",
      "788.475933612333\n",
      "451.3479848332699\n",
      "367.03393329294096\n"
     ]
    }
   ],
   "source": [
    "#1 távolság\n",
    "for i in range(len(l)):\n",
    "    print(G_two(l[i]))"
   ]
  },
  {
   "cell_type": "code",
   "execution_count": 5,
   "id": "849e4719",
   "metadata": {},
   "outputs": [
    {
     "name": "stdout",
     "output_type": "stream",
     "text": [
      "125.71708354374177\n",
      "81.28720885587444\n",
      "72.35677702056326\n",
      "49.84618413102779\n",
      "33.36442674956373\n"
     ]
    }
   ],
   "source": [
    "#D1-hez az összes\n",
    "L=l[0]\n",
    "for i in range(len(l)-1):\n",
    "    L=L+l[i+1]\n",
    "    print(G_two(L))"
   ]
  },
  {
   "cell_type": "code",
   "execution_count": 6,
   "id": "640c14a4",
   "metadata": {},
   "outputs": [
    {
     "name": "stdout",
     "output_type": "stream",
     "text": [
      "172.05901292437997\n",
      "147.26813002776217\n",
      "90.22726203609245\n",
      "54.1501688855607\n"
     ]
    }
   ],
   "source": [
    "#D2-hez az összes\n",
    "L=l[1]\n",
    "for i in range(len(l)-2):\n",
    "    L=L+l[i+2]\n",
    "    \n",
    "    print( G_two(L))"
   ]
  },
  {
   "cell_type": "code",
   "execution_count": 7,
   "id": "032a6c5d",
   "metadata": {},
   "outputs": [
    {
     "name": "stdout",
     "output_type": "stream",
     "text": [
      "125.71708354374177\n",
      "81.28720885587444\n",
      "72.35677702056326\n",
      "49.84618413102779\n",
      "33.36442674956373\n",
      "----------------------\n",
      "172.05901292437997\n",
      "147.26813002776217\n",
      "90.22726203609245\n",
      "54.1501688855607\n",
      "----------------------\n",
      "384.66624476455956\n",
      "198.7005614519159\n",
      "100.77198070952298\n",
      "----------------------\n",
      "367.8508083210315\n",
      "162.63606311138886\n",
      "----------------------\n",
      "191.1075614730307\n",
      "----------------------\n",
      "----------------------\n"
     ]
    }
   ],
   "source": [
    "#az összes koincidencia\n",
    "for j in range(len(l)):\n",
    "    L=l[j]\n",
    "    for i in range(len(l)-(j+1)):\n",
    "        L=L+l[i+(j+1)]\n",
    "\n",
    "        print( G_two(L))\n",
    "    print('----------------------')"
   ]
  },
  {
   "cell_type": "code",
   "execution_count": 27,
   "id": "3eec5e66",
   "metadata": {},
   "outputs": [],
   "source": [
    "#Hengernek tekintve a detektort vastagságával együtt G=pi*felület\n",
    "def det_henger (h):\n",
    "    d=20\n",
    "    return pi*(2*(d/2)**2*pi+d*pi*h)"
   ]
  },
  {
   "cell_type": "markdown",
   "id": "ae048c96",
   "metadata": {},
   "source": [
    "## Különböző detektorok geometriai tényezője"
   ]
  },
  {
   "cell_type": "code",
   "execution_count": 28,
   "id": "8aaae078",
   "metadata": {},
   "outputs": [
    {
     "name": "stdout",
     "output_type": "stream",
     "text": [
      "2033.138506624408\n",
      "1993.6600890200502\n",
      "2270.0090122505526\n",
      "2664.793188294127\n",
      "2072.616924228765\n"
     ]
    }
   ],
   "source": [
    "print(det_henger(0.3))\n",
    "print(det_henger(0.1))\n",
    "print(det_henger(1.5))\n",
    "print(det_henger(3.5))\n",
    "print(det_henger(0.5))"
   ]
  },
  {
   "cell_type": "markdown",
   "id": "d5293468",
   "metadata": {},
   "source": [
    "# Directional response"
   ]
  },
  {
   "cell_type": "code",
   "execution_count": 34,
   "id": "1851001c",
   "metadata": {},
   "outputs": [],
   "source": [
    "def A_two_element(r1,r2,l,teth): #teth radianban\n",
    "    tet_c=0\n",
    "    tet_m=math.atan(r1+r2)/l\n",
    "    \n",
    "    A_w=0\n",
    "    if (teth <= tet_m and tet_c<= teth):\n",
    "        f1=(l**2*tan(teth)**2)/(2*l*r2*tan(teth))\n",
    "        f2=(r2**2+(l**2*tan(teth)**2)-r1**2)/(2*l*r2*tan(teth))\n",
    "        F1=math.acos(f1)\n",
    "        F2=math.acos(f2)\n",
    "        A_w=cos(teth)*(0.5*r1**2*(2*F1-(sin(2*F1))+(0.5*r2**2*(2*F2-(sin(2*F2))))))\n",
    "                \n",
    "    return A_w"
   ]
  },
  {
   "cell_type": "code",
   "execution_count": 35,
   "id": "64dd6816",
   "metadata": {},
   "outputs": [
    {
     "data": {
      "text/plain": [
       "7438.551256098756"
      ]
     },
     "execution_count": 35,
     "metadata": {},
     "output_type": "execute_result"
    }
   ],
   "source": [
    "#test mm\n",
    "#theta itt tetszőleges választás\n",
    "A_two_element(10,10,12.2,radians(5))"
   ]
  },
  {
   "cell_type": "code",
   "execution_count": 39,
   "id": "3f4b0411",
   "metadata": {},
   "outputs": [
    {
     "name": "stderr",
     "output_type": "stream",
     "text": [
      "<ipython-input-34-816332f22293>:7: RuntimeWarning: invalid value encountered in double_scalars\n",
      "  f1=(l**2*tan(teth)**2)/(2*l*r2*tan(teth))\n",
      "<ipython-input-34-816332f22293>:8: RuntimeWarning: invalid value encountered in double_scalars\n",
      "  f2=(r2**2+(l**2*tan(teth)**2)-r1**2)/(2*l*r2*tan(teth))\n"
     ]
    },
    {
     "data": {
      "text/plain": [
       "Text(0.5, 1.0, 'D1-D2 detektor directional response coincidence')"
      ]
     },
     "execution_count": 39,
     "metadata": {},
     "output_type": "execute_result"
    },
    {
     "data": {
      "image/png": "[encoded data removed]",
      "text/plain": [
       "<Figure size 432x288 with 1 Axes>"
      ]
     },
     "metadata": {
      "needs_background": "light"
     },
     "output_type": "display_data"
    }
   ],
   "source": [
    "tethx=linspace(radians(0),radians(90),100)\n",
    "A_y=[]\n",
    "for i in range(100):\n",
    "    A_y.append(A_two_element(10,10,12.2,tethx[i]))\n",
    "    \n",
    "plot(tethx,A_y,'x')  \n",
    "xlabel('Merőlegestől való eltérés radiánaban')\n",
    "ylabel('Directional response')\n",
    "title('D1-D2 detektor directional response coincidence')"
   ]
  },
  {
   "cell_type": "code",
   "execution_count": null,
   "id": "d8603496",
   "metadata": {},
   "outputs": [],
   "source": []
  }
 ],
 "metadata": {
  "kernelspec": {
   "display_name": "Python 3",
   "language": "python",
   "name": "python3"
  },
  "language_info": {
   "codemirror_mode": {
    "name": "ipython",
    "version": 3
   },
   "file_extension": ".py",
   "mimetype": "text/x-python",
   "name": "python",
   "nbconvert_exporter": "python",
   "pygments_lexer": "ipython3",
   "version": "3.8.8"
  }
 },
 "nbformat": 4,
 "nbformat_minor": 5
}
